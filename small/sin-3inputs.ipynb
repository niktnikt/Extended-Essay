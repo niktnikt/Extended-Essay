{
 "cells": [
  {
   "cell_type": "code",
   "execution_count": 1,
   "metadata": {},
   "outputs": [],
   "source": [
    "import numpy as np\n",
    "import tensorflow as tf\n",
    "import matplotlib.pyplot as plt\n",
    "%matplotlib inline\n"
   ]
  },
  {
   "cell_type": "code",
   "execution_count": 2,
   "metadata": {},
   "outputs": [],
   "source": [
    "n_inputs = 3\n",
    "n_hidden1 = 50\n",
    "n_hidden2 = 20\n",
    "n_hidden3 = 10\n",
    "n_outputs = 1"
   ]
  },
  {
   "cell_type": "code",
   "execution_count": 3,
   "metadata": {},
   "outputs": [],
   "source": [
    "X = tf.placeholder(dtype=tf.float32, shape=(None, n_inputs))\n",
    "y = tf.placeholder(dtype=tf.float32, shape=(None))"
   ]
  },
  {
   "cell_type": "code",
   "execution_count": 4,
   "metadata": {},
   "outputs": [
    {
     "name": "stdout",
     "output_type": "stream",
     "text": [
      "\n",
      "WARNING: The TensorFlow contrib module will not be included in TensorFlow 2.0.\n",
      "For more information, please see:\n",
      "  * https://github.com/tensorflow/community/blob/master/rfcs/20180907-contrib-sunset.md\n",
      "  * https://github.com/tensorflow/addons\n",
      "If you depend on functionality not listed there, please file an issue.\n",
      "\n",
      "WARNING:tensorflow:From /Users/NIKT/Desktop/Programming/Python/NN/EE/venv/lib/python3.7/site-packages/tensorflow/python/framework/op_def_library.py:263: colocate_with (from tensorflow.python.framework.ops) is deprecated and will be removed in a future version.\n",
      "Instructions for updating:\n",
      "Colocations handled automatically by placer.\n"
     ]
    }
   ],
   "source": [
    "hidden1 = tf.contrib.layers.fully_connected(X, n_hidden1, activation_fn=tf.nn.relu)\n",
    "hidden2 = tf.contrib.layers.fully_connected(hidden1, n_hidden2, activation_fn=tf.nn.relu)\n",
    "hidden3 = tf.contrib.layers.fully_connected(hidden2, n_hidden3, activation_fn=tf.nn.relu)\n",
    "output = tf.contrib.layers.fully_connected(hidden3, n_outputs, activation_fn=None)"
   ]
  },
  {
   "cell_type": "code",
   "execution_count": 5,
   "metadata": {},
   "outputs": [
    {
     "name": "stdout",
     "output_type": "stream",
     "text": [
      "WARNING:tensorflow:From /Users/NIKT/Desktop/Programming/Python/NN/EE/venv/lib/python3.7/site-packages/tensorflow/python/ops/losses/losses_impl.py:667: to_float (from tensorflow.python.ops.math_ops) is deprecated and will be removed in a future version.\n",
      "Instructions for updating:\n",
      "Use tf.cast instead.\n"
     ]
    }
   ],
   "source": [
    "with tf.name_scope('loss'):\n",
    "    loss = tf.losses.mean_squared_error(y, output)"
   ]
  },
  {
   "cell_type": "code",
   "execution_count": 6,
   "metadata": {},
   "outputs": [
    {
     "name": "stdout",
     "output_type": "stream",
     "text": [
      "WARNING:tensorflow:From /Users/NIKT/Desktop/Programming/Python/NN/EE/venv/lib/python3.7/site-packages/tensorflow/python/ops/math_ops.py:3066: to_int32 (from tensorflow.python.ops.math_ops) is deprecated and will be removed in a future version.\n",
      "Instructions for updating:\n",
      "Use tf.cast instead.\n"
     ]
    }
   ],
   "source": [
    "with tf.name_scope('optimizer'):\n",
    "    optimizer = tf.train.AdamOptimizer().minimize(loss)"
   ]
  },
  {
   "cell_type": "markdown",
   "metadata": {},
   "source": [
    "# Execution "
   ]
  },
  {
   "cell_type": "code",
   "execution_count": 7,
   "metadata": {},
   "outputs": [],
   "source": [
    "init = tf.global_variables_initializer()"
   ]
  },
  {
   "cell_type": "code",
   "execution_count": 8,
   "metadata": {},
   "outputs": [],
   "source": [
    "def gradient(x):\n",
    "    gradients = []\n",
    "#     grad = -np.sin(x) #derivative of sine\n",
    "    grad = np.square((1 / np.cos(x)))\n",
    "    for elem in grad:\n",
    "        if elem > 0:\n",
    "            gradients.append(1)\n",
    "        else:\n",
    "            gradients.append(0)\n",
    "    return gradients"
   ]
  },
  {
   "cell_type": "code",
   "execution_count": 9,
   "metadata": {},
   "outputs": [
    {
     "name": "stdout",
     "output_type": "stream",
     "text": [
      "40.814533\n",
      "14.027619\n",
      "15.775891\n",
      "10.782426\n",
      "34.17783\n",
      "70.93102\n",
      "14.406419\n",
      "18.491165\n",
      "17.081629\n",
      "24.128597\n"
     ]
    },
    {
     "data": {
      "image/png": "[encoded data removed]",
      "text/plain": [
       "<Figure size 432x288 with 1 Axes>"
      ]
     },
     "metadata": {
      "needs_background": "light"
     },
     "output_type": "display_data"
    }
   ],
   "source": [
    "#train nn on range 50-75 and test on range 0-100\n",
    "n_epochs = 100000\n",
    "\n",
    "with tf.Session() as sess:\n",
    "    sess.run(init)\n",
    "    for epoch in range (0, n_epochs):\n",
    "        \n",
    "        period = np.pi\n",
    "#         period = 2 * np.pi\n",
    "        \n",
    "#         value = np.random.rand(400, 1) * 15 #domain 0, 15\n",
    "        value = np.random.uniform(40, 75, (400, 1))\n",
    "        label = np.tan(value)\n",
    "        cycle = value / period #value / period of sine function\n",
    "        value_no_cycle = value % period #value % period of sine\n",
    "        \n",
    "        gradients = gradient(value)\n",
    "        \n",
    "        values = np.column_stack((cycle, value_no_cycle, gradients))\n",
    "        \n",
    "        sess.run(optimizer, feed_dict={X:values, y: label})\n",
    "        if epoch % 10000 == 0:\n",
    "            acc = loss.eval(feed_dict={X:values, y: label})\n",
    "            print(np.sqrt(acc))\n",
    "    #final predictions and graph plot\n",
    "    values_test = np.random.rand(400, 1) * 100\n",
    "#     value = np.random.uniform(50, 75, (400, 1))\n",
    "    actual_test = np.tan(values_test)\n",
    "    \n",
    "    \n",
    "    cycle_test = values_test / period\n",
    "    value_no_cycle_test = values_test % period\n",
    "    \n",
    "    gradients_test = gradient(values_test)\n",
    "    \n",
    "    values_combined = np.column_stack((cycle_test, value_no_cycle_test, gradients_test))\n",
    "    \n",
    "    predictions = output.eval(feed_dict={X: values_combined})\n",
    "    plt.scatter(values_test, actual_test)\n",
    "    plt.scatter(values_test, predictions)\n",
    "    plt.ylim(-10, 10)\n",
    "    plt.show()"
   ]
  },
  {
   "cell_type": "code",
   "execution_count": 10,
   "metadata": {},
   "outputs": [
    {
     "name": "stdout",
     "output_type": "stream",
     "text": [
      "0.95081043\n",
      "0.004142672\n",
      "0.0041781603\n",
      "0.004009423\n",
      "0.006184637\n",
      "0.007225362\n",
      "0.0046715923\n",
      "0.005016563\n",
      "0.004226449\n",
      "0.0022164246\n"
     ]
    },
    {
     "data": {
      "image/png": "[encoded data removed]",
      "text/plain": [
       "<Figure size 432x288 with 1 Axes>"
      ]
     },
     "metadata": {
      "needs_background": "light"
     },
     "output_type": "display_data"
    }
   ],
   "source": [
    "#train nn on range 0-25 and test on range 0-100\n",
    "n_epochs = 60000\n",
    "\n",
    "with tf.Session() as sess:\n",
    "    sess.run(init)\n",
    "    for epoch in range (0, n_epochs):\n",
    "        \n",
    "#         period = np.pi\n",
    "        period = 2 * np.pi\n",
    "        \n",
    "        value = np.random.rand(400, 1) * 25 #domain 0, 25\n",
    "#         value = np.random.uniform(50, 75, (400, 1))\n",
    "        label = np.sin(value)\n",
    "        cycle = value / period #value / period of sine function\n",
    "        value_no_cycle = value % period #value % period of sine\n",
    "        \n",
    "        gradients = gradient(value)\n",
    "        \n",
    "        values = np.column_stack((cycle, value_no_cycle, gradients))\n",
    "        \n",
    "        sess.run(optimizer, feed_dict={X:values, y: label})\n",
    "        if epoch % 6000 == 0:\n",
    "            acc = loss.eval(feed_dict={X:values, y: label})\n",
    "            print(np.sqrt(acc))\n",
    "    #final predictions and graph plot\n",
    "    values_test = np.random.rand(400, 1) * 100\n",
    "#     value = np.random.uniform(50, 75, (400, 1))\n",
    "    actual_test = np.sin(values_test)\n",
    "    \n",
    "    \n",
    "    cycle_test = values_test / period\n",
    "    value_no_cycle_test = values_test % period\n",
    "    \n",
    "    gradients_test = gradient(values_test)\n",
    "    \n",
    "    values_combined = np.column_stack((cycle_test, value_no_cycle_test, gradients_test))\n",
    "    \n",
    "    predictions = output.eval(feed_dict={X: values_combined})\n",
    "    plt.scatter(values_test, actual_test)\n",
    "    plt.scatter(values_test, predictions)\n"
   ]
  },
  {
   "cell_type": "code",
   "execution_count": null,
   "metadata": {},
   "outputs": [],
   "source": []
  }
 ],
 "metadata": {
  "kernelspec": {
   "display_name": "Python 3",
   "language": "python",
   "name": "python3"
  },
  "language_info": {
   "codemirror_mode": {
    "name": "ipython",
    "version": 3
   },
   "file_extension": ".py",
   "mimetype": "text/x-python",
   "name": "python",
   "nbconvert_exporter": "python",
   "pygments_lexer": "ipython3",
   "version": "3.7.1"
  }
 },
 "nbformat": 4,
 "nbformat_minor": 2
}
