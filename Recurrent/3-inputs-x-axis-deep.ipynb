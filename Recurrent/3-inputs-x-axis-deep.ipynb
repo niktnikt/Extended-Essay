{
 "cells": [
  {
   "cell_type": "code",
   "execution_count": 1,
   "metadata": {},
   "outputs": [],
   "source": [
    "import tensorflow as tf\n",
    "import numpy as np\n",
    "import matplotlib.pyplot as plt"
   ]
  },
  {
   "cell_type": "code",
   "execution_count": 2,
   "metadata": {},
   "outputs": [],
   "source": [
    "def get_points(batch_size, n_steps, resolution):\n",
    "    points = []\n",
    "    starting = np.random.rand(batch_size, 1)\n",
    "    for i in range(n_steps):\n",
    "        points.append(starting + (i * resolution))\n",
    "    return np.asarray(points).reshape(-1, n_steps, 1)"
   ]
  },
  {
   "cell_type": "code",
   "execution_count": 3,
   "metadata": {},
   "outputs": [],
   "source": [
    "def get_gradients(x, n_steps):\n",
    "    x_reshaped = x.reshape(-1)\n",
    "    gradients = []\n",
    "    grad = np.cos(x_reshaped) #derivative of sine\n",
    "    for g in grad:\n",
    "        if g > 0:\n",
    "            gradients.append(1)\n",
    "        else:\n",
    "            gradients.append(0)\n",
    "    return np.asarray(gradients).reshape(-1, n_steps, 1)"
   ]
  },
  {
   "cell_type": "code",
   "execution_count": 4,
   "metadata": {},
   "outputs": [],
   "source": [
    "n_steps = 200\n",
    "n_neurons = 100\n",
    "resolution = 0.1\n",
    "n_outputs = 1\n",
    "n_inputs = 3\n",
    "n_layers = 3"
   ]
  },
  {
   "cell_type": "code",
   "execution_count": 5,
   "metadata": {},
   "outputs": [],
   "source": [
    "X = tf.placeholder(dtype=tf.float32, shape=[None, n_steps, n_inputs])\n",
    "y = tf.placeholder(dtype=tf.float32, shape=[None, n_steps, n_outputs])"
   ]
  },
  {
   "cell_type": "code",
   "execution_count": 6,
   "metadata": {},
   "outputs": [
    {
     "name": "stdout",
     "output_type": "stream",
     "text": [
      "\n",
      "WARNING: The TensorFlow contrib module will not be included in TensorFlow 2.0.\n",
      "For more information, please see:\n",
      "  * https://github.com/tensorflow/community/blob/master/rfcs/20180907-contrib-sunset.md\n",
      "  * https://github.com/tensorflow/addons\n",
      "If you depend on functionality not listed there, please file an issue.\n",
      "\n",
      "WARNING:tensorflow:From <ipython-input-6-daa816232a75>:1: BasicRNNCell.__init__ (from tensorflow.python.ops.rnn_cell_impl) is deprecated and will be removed in a future version.\n",
      "Instructions for updating:\n",
      "This class is equivalent as tf.keras.layers.SimpleRNNCell, and will be replaced by that in Tensorflow 2.0.\n",
      "WARNING:tensorflow:From <ipython-input-6-daa816232a75>:9: MultiRNNCell.__init__ (from tensorflow.python.ops.rnn_cell_impl) is deprecated and will be removed in a future version.\n",
      "Instructions for updating:\n",
      "This class is equivalent as tf.keras.layers.StackedRNNCells, and will be replaced by that in Tensorflow 2.0.\n",
      "WARNING:tensorflow:From <ipython-input-6-daa816232a75>:11: dynamic_rnn (from tensorflow.python.ops.rnn) is deprecated and will be removed in a future version.\n",
      "Instructions for updating:\n",
      "Please use `keras.layers.RNN(cell)`, which is equivalent to this API\n",
      "WARNING:tensorflow:From /Users/NIKT/Desktop/Programming/Python/NN/EE/venv/lib/python3.7/site-packages/tensorflow/python/ops/tensor_array_ops.py:162: colocate_with (from tensorflow.python.framework.ops) is deprecated and will be removed in a future version.\n",
      "Instructions for updating:\n",
      "Colocations handled automatically by placer.\n"
     ]
    }
   ],
   "source": [
    "cells = [tf.contrib.rnn.BasicRNNCell(num_units=n_neurons, activation=tf.nn.elu) for layer in range(n_layers-1)] #create cells \n",
    "\n",
    "last_cell = tf.contrib.rnn.OutputProjectionWrapper( #create last cell with single output\n",
    "    tf.nn.rnn_cell.BasicRNNCell(num_units=10, activation=tf.nn.elu),\n",
    "    output_size=n_outputs)\n",
    "\n",
    "cells.append(last_cell)\n",
    "\n",
    "multi_layer_cell = tf.contrib.rnn.MultiRNNCell(cells)\n",
    "\n",
    "outputs, states = tf.nn.dynamic_rnn(multi_layer_cell, X, dtype=tf.float32)"
   ]
  },
  {
   "cell_type": "code",
   "execution_count": 7,
   "metadata": {},
   "outputs": [],
   "source": [
    "learning_rate = 0.001\n",
    "loss = tf.reduce_mean(tf.square(outputs - y))"
   ]
  },
  {
   "cell_type": "code",
   "execution_count": 8,
   "metadata": {},
   "outputs": [],
   "source": [
    "optimizer = tf.train.AdamOptimizer(learning_rate=learning_rate)\n",
    "training_op = optimizer.minimize(loss)"
   ]
  },
  {
   "cell_type": "code",
   "execution_count": 9,
   "metadata": {},
   "outputs": [],
   "source": [
    "init = tf.global_variables_initializer()"
   ]
  },
  {
   "cell_type": "code",
   "execution_count": 10,
   "metadata": {},
   "outputs": [],
   "source": [
    "saver = tf.train.Saver()"
   ]
  },
  {
   "cell_type": "code",
   "execution_count": 11,
   "metadata": {},
   "outputs": [
    {
     "name": "stdout",
     "output_type": "stream",
     "text": [
      "15.628453\n",
      "0.42043898\n",
      "0.3119422\n",
      "0.2357396\n",
      "0.08211518\n",
      "0.05467594\n",
      "0.06586404\n",
      "0.0444308\n",
      "0.04594203\n",
      "0.04792663\n",
      "0.04280477\n",
      "0.041028343\n",
      "0.04231079\n",
      "0.043908957\n",
      "0.039118193\n"
     ]
    }
   ],
   "source": [
    "n_iterations = 1500\n",
    "batch_size = 50\n",
    "\n",
    "with tf.Session() as sess:\n",
    "    init.run()\n",
    "    for i in range(n_iterations):\n",
    "        \n",
    "        X_values = get_points(batch_size, n_steps, resolution)\n",
    "        gradients = get_gradients(X_values, n_steps)\n",
    "        cycle = X_values % 2*np.pi\n",
    "        X_batch = np.concatenate((X_values, gradients, cycle), axis=2)#combine the 3 inputs into a single matrix\n",
    "        \n",
    "        y_batch = np.sin(X_values)\n",
    "        \n",
    "        sess.run(training_op, feed_dict={X: X_batch, y: y_batch})\n",
    "        if i % 100 == 0:\n",
    "            mse = loss.eval(feed_dict={X: X_batch, y: y_batch})\n",
    "            print(mse)\n",
    "    saver.save(sess, \"./sin-three-inputs-x-axis-deep-model\")"
   ]
  },
  {
   "cell_type": "code",
   "execution_count": 12,
   "metadata": {},
   "outputs": [
    {
     "name": "stdout",
     "output_type": "stream",
     "text": [
      "WARNING:tensorflow:From /Users/NIKT/Desktop/Programming/Python/NN/EE/venv/lib/python3.7/site-packages/tensorflow/python/training/saver.py:1266: checkpoint_exists (from tensorflow.python.training.checkpoint_management) is deprecated and will be removed in a future version.\n",
      "Instructions for updating:\n",
      "Use standard file APIs to check for files with this prefix.\n",
      "INFO:tensorflow:Restoring parameters from ./sin-three-inputs-x-axis-deep-model\n"
     ]
    },
    {
     "data": {
      "image/png": "[encoded data removed]",
      "text/plain": [
       "<Figure size 432x288 with 1 Axes>"
      ]
     },
     "metadata": {
      "needs_background": "light"
     },
     "output_type": "display_data"
    }
   ],
   "source": [
    "with tf.Session() as sess:\n",
    "    saver.restore(sess, \"./sin-three-inputs-x-axis-deep-model\")\n",
    "    points = get_points(1, n_steps, resolution)\n",
    "    gradients = get_gradients(points, n_steps)\n",
    "    cycle = points % 2*np.pi\n",
    "    X_batch = np.concatenate((points, gradients, cycle), axis=2)\n",
    "    \n",
    "    actual = np.sin(points) \n",
    "    \n",
    "    y_pred = sess.run(outputs, feed_dict={X: X_batch})\n",
    "    plt.plot(points.reshape(-1), actual.reshape(-1))\n",
    "    plt.plot(points.reshape(-1), y_pred.reshape(-1))"
   ]
  },
  {
   "cell_type": "code",
   "execution_count": 13,
   "metadata": {},
   "outputs": [
    {
     "name": "stdout",
     "output_type": "stream",
     "text": [
      "INFO:tensorflow:Restoring parameters from ./sin-three-inputs-x-axis-deep-model\n"
     ]
    },
    {
     "data": {
      "image/png": "[encoded data removed]",
      "text/plain": [
       "<Figure size 432x288 with 1 Axes>"
      ]
     },
     "metadata": {
      "needs_background": "light"
     },
     "output_type": "display_data"
    }
   ],
   "source": [
    "#creative RNN over 100 steps\n",
    "with tf.Session() as sess:\n",
    "    saver.restore(sess, \"./sin-three-inputs-x-axis-deep-model\")\n",
    "    points = get_points(1, n_steps+100, resolution)[:, -n_steps:]\n",
    "    gradients = get_gradients(points, n_steps)\n",
    "    cycle = points % 2*np.pi\n",
    "    X_batch = np.concatenate((points, gradients, cycle), axis=2)\n",
    "    \n",
    "    actual = np.sin(points) \n",
    "    \n",
    "    y_pred = sess.run(outputs, feed_dict={X: X_batch})\n",
    "    plt.plot(points.reshape(-1), actual.reshape(-1))\n",
    "    plt.plot(points.reshape(-1), y_pred.reshape(-1))"
   ]
  },
  {
   "cell_type": "code",
   "execution_count": null,
   "metadata": {},
   "outputs": [],
   "source": []
  }
 ],
 "metadata": {
  "kernelspec": {
   "display_name": "Python 3",
   "language": "python",
   "name": "python3"
  },
  "language_info": {
   "codemirror_mode": {
    "name": "ipython",
    "version": 3
   },
   "file_extension": ".py",
   "mimetype": "text/x-python",
   "name": "python",
   "nbconvert_exporter": "python",
   "pygments_lexer": "ipython3",
   "version": "3.7.1"
  }
 },
 "nbformat": 4,
 "nbformat_minor": 2
}
