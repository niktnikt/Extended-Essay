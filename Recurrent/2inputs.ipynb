{
 "cells": [
  {
   "cell_type": "code",
   "execution_count": 1,
   "metadata": {},
   "outputs": [],
   "source": [
    "#inputs are: gradient at point and previous y value\n",
    "import tensorflow as tf\n",
    "import numpy as np\n",
    "import matplotlib.pyplot as plt"
   ]
  },
  {
   "cell_type": "code",
   "execution_count": 2,
   "metadata": {},
   "outputs": [],
   "source": [
    "n_inputs = 2\n",
    "n_neurons = 100\n",
    "n_steps = 200\n",
    "n_outputs = 1"
   ]
  },
  {
   "cell_type": "code",
   "execution_count": 3,
   "metadata": {},
   "outputs": [],
   "source": [
    "X = tf.placeholder(dtype=tf.float32, shape=[None, n_steps, n_inputs])\n",
    "y = tf.placeholder(dtype=tf.float32, shape=[None, n_steps, n_outputs])"
   ]
  },
  {
   "cell_type": "code",
   "execution_count": 4,
   "metadata": {},
   "outputs": [],
   "source": [
    "def get_next_batch(batch_size, n_steps):\n",
    "    X = []\n",
    "    gradients_X = []\n",
    "    #get random consecutive points and calculate sin of them\n",
    "    starting = np.random.rand(batch_size, 1)\n",
    "    for i in range(n_steps):\n",
    "        X.append(np.sin(starting + (i/10)))\n",
    "        #gradient\n",
    "        temp_grads = []\n",
    "        grad = np.cos(starting + (i / 10))\n",
    "        for g in grad:\n",
    "            if g > 0:\n",
    "                temp_grads.append([1])\n",
    "            else:\n",
    "                temp_grads.append([0])\n",
    "        gradients_X.append(temp_grads)\n",
    "#     gradients_y = gradients_X.copy()\n",
    "#     gradients_y.pop(0)\n",
    "#     temp_grads_y = []\n",
    "#     grad_y = np.cos(starting + (n_steps / 10))\n",
    "#     for g in grad_y:\n",
    "#         if g > 0:\n",
    "#             temp_grads_y.append([1])\n",
    "#         else:\n",
    "#             temp_grads_y.append([0])\n",
    "#     gradients_y.append(temp_grads_y)\n",
    "    \n",
    "#     y = X.copy()\n",
    "#     y.pop(0)\n",
    "#     y.append(np.sin(starting + n_steps / 10))\n",
    "#     y_np = np.asarray(y).reshape(-1, n_steps, 1)\n",
    "#     gradients_y_np = np.asarray(gradients_y).reshape(-1, n_steps, 1)\n",
    "#     y_np_full = np.append(y_np, gradients_y_np, axis=2)\n",
    "    y = X.copy()\n",
    "    y.pop(0)\n",
    "    y.append(np.sin(starting + n_steps / 10))\n",
    "    y_np = np.asarray(y).reshape(-1, n_steps, 1)\n",
    "    \n",
    "    X_np = np.asarray(X).reshape(-1, n_steps, 1)\n",
    "    gradients_X_np = np.asarray(gradients_X).reshape(-1, n_steps, 1)\n",
    "    X_np_full = np.append(X_np, gradients_X_np, axis=2)\n",
    "    return X_np_full, y_np"
   ]
  },
  {
   "cell_type": "code",
   "execution_count": 5,
   "metadata": {},
   "outputs": [],
   "source": [
    "def get_test_batch(n_steps):\n",
    "    X = []\n",
    "    X_grads = []\n",
    "    #get random consecutive points and their gradients\n",
    "    starting = np.random.rand(1)\n",
    "    for i in range(n_steps):\n",
    "        X.append(starting + (i/10))\n",
    "        temp_grads = []\n",
    "        grad = np.cos(starting + (i/10))\n",
    "        for g in grad:\n",
    "            if g > 0:\n",
    "                temp_grads.append([1])\n",
    "            else:\n",
    "                temp_grads.append([0])\n",
    "        X_grads.append(temp_grads)\n",
    "    X_sin = np.sin(X)\n",
    "    X_np = np.asarray(X_sin).reshape(-1, n_steps, 1)\n",
    "    X_grads_np = np.asarray(X_grads).reshape(-1, n_steps, 1)\n",
    "    X_np_full = np.append(X_np, X_grads_np, axis=2)\n",
    "    return X_np_full"
   ]
  },
  {
   "cell_type": "code",
   "execution_count": 6,
   "metadata": {},
   "outputs": [
    {
     "name": "stdout",
     "output_type": "stream",
     "text": [
      "[[[0.63887386 1.        ]\n",
      "  [0.71248514 1.        ]\n",
      "  [0.77897752 1.        ]\n",
      "  [0.8376866  1.        ]\n",
      "  [0.8880258  1.        ]\n",
      "  [0.92949214 1.        ]\n",
      "  [0.9616713  1.        ]\n",
      "  [0.98424176 1.        ]\n",
      "  [0.996978   1.        ]\n",
      "  [0.99975276 0.        ]]]\n"
     ]
    }
   ],
   "source": [
    "xd = get_test_batch(10)\n",
    "print(xd)"
   ]
  },
  {
   "cell_type": "code",
   "execution_count": 7,
   "metadata": {},
   "outputs": [
    {
     "name": "stdout",
     "output_type": "stream",
     "text": [
      "\n",
      "WARNING: The TensorFlow contrib module will not be included in TensorFlow 2.0.\n",
      "For more information, please see:\n",
      "  * https://github.com/tensorflow/community/blob/master/rfcs/20180907-contrib-sunset.md\n",
      "  * https://github.com/tensorflow/addons\n",
      "If you depend on functionality not listed there, please file an issue.\n",
      "\n",
      "WARNING:tensorflow:From <ipython-input-7-933849a62738>:2: BasicRNNCell.__init__ (from tensorflow.python.ops.rnn_cell_impl) is deprecated and will be removed in a future version.\n",
      "Instructions for updating:\n",
      "This class is equivalent as tf.keras.layers.SimpleRNNCell, and will be replaced by that in Tensorflow 2.0.\n",
      "WARNING:tensorflow:From <ipython-input-7-933849a62738>:5: dynamic_rnn (from tensorflow.python.ops.rnn) is deprecated and will be removed in a future version.\n",
      "Instructions for updating:\n",
      "Please use `keras.layers.RNN(cell)`, which is equivalent to this API\n",
      "WARNING:tensorflow:From /Users/NIKT/Desktop/Programming/Python/NN/EE/venv/lib/python3.7/site-packages/tensorflow/python/ops/tensor_array_ops.py:162: colocate_with (from tensorflow.python.framework.ops) is deprecated and will be removed in a future version.\n",
      "Instructions for updating:\n",
      "Colocations handled automatically by placer.\n"
     ]
    }
   ],
   "source": [
    "cell = tf.contrib.rnn.OutputProjectionWrapper(\n",
    "    tf.nn.rnn_cell.BasicRNNCell(num_units=n_neurons, activation=tf.nn.elu),\n",
    "    output_size=n_outputs)\n",
    "\n",
    "outputs, states = tf.nn.dynamic_rnn(cell, X, dtype=tf.float32)"
   ]
  },
  {
   "cell_type": "code",
   "execution_count": 8,
   "metadata": {},
   "outputs": [],
   "source": [
    "learning_rate = 0.001\n",
    "loss = tf.reduce_mean(tf.square(outputs - y))"
   ]
  },
  {
   "cell_type": "code",
   "execution_count": 9,
   "metadata": {},
   "outputs": [],
   "source": [
    "optimizer = tf.train.AdamOptimizer(learning_rate=learning_rate)\n",
    "training_op = optimizer.minimize(loss)"
   ]
  },
  {
   "cell_type": "code",
   "execution_count": 10,
   "metadata": {},
   "outputs": [],
   "source": [
    "init = tf.global_variables_initializer()"
   ]
  },
  {
   "cell_type": "code",
   "execution_count": 11,
   "metadata": {},
   "outputs": [],
   "source": [
    "saver = tf.train.Saver()"
   ]
  },
  {
   "cell_type": "code",
   "execution_count": 12,
   "metadata": {},
   "outputs": [
    {
     "name": "stdout",
     "output_type": "stream",
     "text": [
      "0.32155305\n",
      "0.008956168\n",
      "0.0009285245\n",
      "0.00045122937\n",
      "0.00034306175\n",
      "0.00033912528\n",
      "0.00032291783\n",
      "0.00026704825\n",
      "0.00030154892\n",
      "0.00028874184\n",
      "0.0002744112\n",
      "0.00022369297\n",
      "0.0002219376\n",
      "0.00020275393\n",
      "0.00020607881\n"
     ]
    }
   ],
   "source": [
    "n_iterations = 1500\n",
    "batch_size = 50\n",
    "\n",
    "with tf.Session() as sess:\n",
    "    init.run()\n",
    "    for i in range(n_iterations):\n",
    "        X_batch, y_batch = get_next_batch(batch_size, n_steps)\n",
    "        sess.run(training_op, feed_dict={X: X_batch, y: y_batch})\n",
    "        if i % 100 == 0:\n",
    "            mse = loss.eval(feed_dict={X: X_batch, y: y_batch})\n",
    "            print(mse)\n",
    "    saver.save(sess, \"./sin-two-input-model\")"
   ]
  },
  {
   "cell_type": "code",
   "execution_count": 17,
   "metadata": {},
   "outputs": [
    {
     "name": "stdout",
     "output_type": "stream",
     "text": [
      "INFO:tensorflow:Restoring parameters from ./sin-two-input-model\n"
     ]
    },
    {
     "name": "stderr",
     "output_type": "stream",
     "text": [
      "/Users/NIKT/Desktop/Programming/Python/NN/EE/venv/lib/python3.7/site-packages/ipykernel_launcher.py:11: RuntimeWarning: invalid value encountered in arcsin\n",
      "  # This is added back by InteractiveShellApp.init_path()\n"
     ]
    },
    {
     "data": {
      "image/png": "[encoded data removed]",
      "text/plain": [
       "<Figure size 432x288 with 1 Axes>"
      ]
     },
     "metadata": {
      "needs_background": "light"
     },
     "output_type": "display_data"
    }
   ],
   "source": [
    "with tf.Session() as sess:\n",
    "    saver.restore(sess, \"./sin-two-input-model\")\n",
    "    #predictions = []\n",
    "    values = get_test_batch(n_steps)\n",
    "    predictions = values.reshape(-1, 2).copy().tolist() #convert to python list to have access to append\n",
    "    for i in range(100):\n",
    "        X_batch = np.array(predictions[:][-n_steps:]).reshape(1, n_steps, 2)\n",
    "        #y_pred only holds the y values not gradients\n",
    "        y_pred = sess.run(outputs, feed_dict={X: X_batch})\n",
    "        y_pred_value = y_pred[0, -1, 0] #get the last element from the predicition (it is the new predicition)\n",
    "        grad = np.cos(np.arcsin(y_pred_value)) #get the gradient at that new point\n",
    "        if grad > 0:\n",
    "            gradient = 1\n",
    "        else:\n",
    "            gradient = 0\n",
    "        pred_combined = [y_pred_value, gradient]\n",
    "        predictions.append(pred_combined)\n",
    "    values_points = values[:, :, 0] #values contains both gradient and y value of each point, plot only y value\n",
    "    predictions_points = np.array(predictions)[:, 0] #again get rid of gradients\n",
    "    plt.plot(np.arange(values_points.shape[1]).reshape(-1), values_points.reshape(-1)) \n",
    "    plt.plot(np.arange(len(predictions_points)), predictions_points)"
   ]
  },
  {
   "cell_type": "code",
   "execution_count": null,
   "metadata": {},
   "outputs": [],
   "source": []
  }
 ],
 "metadata": {
  "kernelspec": {
   "display_name": "Python 3",
   "language": "python",
   "name": "python3"
  },
  "language_info": {
   "codemirror_mode": {
    "name": "ipython",
    "version": 3
   },
   "file_extension": ".py",
   "mimetype": "text/x-python",
   "name": "python",
   "nbconvert_exporter": "python",
   "pygments_lexer": "ipython3",
   "version": "3.7.1"
  }
 },
 "nbformat": 4,
 "nbformat_minor": 2
}
