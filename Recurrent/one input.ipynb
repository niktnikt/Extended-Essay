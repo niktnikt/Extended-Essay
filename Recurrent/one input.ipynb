{
 "cells": [
  {
   "cell_type": "code",
   "execution_count": 1,
   "metadata": {},
   "outputs": [],
   "source": [
    "import tensorflow as tf\n",
    "import numpy as np\n",
    "import matplotlib.pyplot as plt"
   ]
  },
  {
   "cell_type": "code",
   "execution_count": 2,
   "metadata": {},
   "outputs": [],
   "source": [
    "n_inputs = 1\n",
    "n_neurons = 100\n",
    "n_steps = 200\n",
    "n_outputs = 1"
   ]
  },
  {
   "cell_type": "code",
   "execution_count": 3,
   "metadata": {},
   "outputs": [],
   "source": [
    "X = tf.placeholder(dtype=tf.float32, shape=[None, n_steps, n_inputs])\n",
    "y = tf.placeholder(dtype=tf.float32, shape=[None, n_steps, n_outputs])"
   ]
  },
  {
   "cell_type": "code",
   "execution_count": 4,
   "metadata": {},
   "outputs": [],
   "source": [
    "def get_next_batch(batch_size, n_steps):\n",
    "    X = []\n",
    "    #get random consecutive points and calculate sin of them\n",
    "    starting = np.random.rand(batch_size, 1)\n",
    "    for i in range(n_steps):\n",
    "        X.append(np.sin(starting + (i/10)))\n",
    "    y = X.copy()\n",
    "    y.pop(0)\n",
    "    y.append(np.sin(starting + n_steps / 10))\n",
    "    y_np = np.asarray(y)\n",
    "    X_np = np.asarray(X)\n",
    "    return X_np.reshape(-1, n_steps, 1), y_np.reshape(-1, n_steps, 1)"
   ]
  },
  {
   "cell_type": "code",
   "execution_count": 15,
   "metadata": {},
   "outputs": [],
   "source": [
    "def get_test_batch(n_steps):\n",
    "    X = []\n",
    "    X_actual = [] #same as x but bigger because covers test domain\n",
    "    #get random consecutive points\n",
    "    starting = np.random.rand(1)\n",
    "    for i in range(n_steps + 100):\n",
    "        if(i >= n_steps):\n",
    "            X_actual.append(starting + (i/10))\n",
    "        else:\n",
    "            X.append(starting + (i/10))\n",
    "            X_actual.append(starting + (i/10))\n",
    "    X_np = np.asarray(X)\n",
    "    X_actual_np = np.asarray(X_actual)\n",
    "    return X_np, X_actual_np"
   ]
  },
  {
   "cell_type": "code",
   "execution_count": 6,
   "metadata": {},
   "outputs": [
    {
     "name": "stdout",
     "output_type": "stream",
     "text": [
      "\n",
      "WARNING: The TensorFlow contrib module will not be included in TensorFlow 2.0.\n",
      "For more information, please see:\n",
      "  * https://github.com/tensorflow/community/blob/master/rfcs/20180907-contrib-sunset.md\n",
      "  * https://github.com/tensorflow/addons\n",
      "If you depend on functionality not listed there, please file an issue.\n",
      "\n",
      "WARNING:tensorflow:From <ipython-input-6-933849a62738>:2: BasicRNNCell.__init__ (from tensorflow.python.ops.rnn_cell_impl) is deprecated and will be removed in a future version.\n",
      "Instructions for updating:\n",
      "This class is equivalent as tf.keras.layers.SimpleRNNCell, and will be replaced by that in Tensorflow 2.0.\n",
      "WARNING:tensorflow:From <ipython-input-6-933849a62738>:5: dynamic_rnn (from tensorflow.python.ops.rnn) is deprecated and will be removed in a future version.\n",
      "Instructions for updating:\n",
      "Please use `keras.layers.RNN(cell)`, which is equivalent to this API\n",
      "WARNING:tensorflow:From /Users/NIKT/Desktop/Programming/Python/NN/EE/venv/lib/python3.7/site-packages/tensorflow/python/ops/tensor_array_ops.py:162: colocate_with (from tensorflow.python.framework.ops) is deprecated and will be removed in a future version.\n",
      "Instructions for updating:\n",
      "Colocations handled automatically by placer.\n"
     ]
    }
   ],
   "source": [
    "cell = tf.contrib.rnn.OutputProjectionWrapper(\n",
    "    tf.nn.rnn_cell.BasicRNNCell(num_units=n_neurons, activation=tf.nn.elu),\n",
    "    output_size=n_outputs)\n",
    "\n",
    "outputs, states = tf.nn.dynamic_rnn(cell, X, dtype=tf.float32)"
   ]
  },
  {
   "cell_type": "code",
   "execution_count": 7,
   "metadata": {},
   "outputs": [],
   "source": [
    "learning_rate = 0.001\n",
    "loss = tf.reduce_mean(tf.square(outputs - y))"
   ]
  },
  {
   "cell_type": "code",
   "execution_count": 8,
   "metadata": {},
   "outputs": [],
   "source": [
    "optimizer = tf.train.AdamOptimizer(learning_rate=learning_rate)\n",
    "training_op = optimizer.minimize(loss)"
   ]
  },
  {
   "cell_type": "code",
   "execution_count": 9,
   "metadata": {},
   "outputs": [],
   "source": [
    "init = tf.global_variables_initializer()"
   ]
  },
  {
   "cell_type": "code",
   "execution_count": 10,
   "metadata": {},
   "outputs": [],
   "source": [
    "saver = tf.train.Saver()"
   ]
  },
  {
   "cell_type": "code",
   "execution_count": 11,
   "metadata": {},
   "outputs": [
    {
     "name": "stdout",
     "output_type": "stream",
     "text": [
      "0.36253822\n",
      "0.01479904\n",
      "0.0058471183\n",
      "0.0049652504\n",
      "0.004866936\n",
      "0.004866629\n",
      "0.004890302\n",
      "0.0047934996\n",
      "0.0044998564\n",
      "0.004541366\n",
      "0.004848846\n",
      "0.004601733\n",
      "0.0048026657\n",
      "0.0049453955\n",
      "0.0048878216\n"
     ]
    }
   ],
   "source": [
    "n_iterations = 1500\n",
    "batch_size = 50\n",
    "\n",
    "with tf.Session() as sess:\n",
    "    init.run()\n",
    "    for i in range(n_iterations):\n",
    "        X_batch, y_batch = get_next_batch(batch_size, n_steps)\n",
    "        sess.run(training_op, feed_dict={X: X_batch, y: y_batch})\n",
    "        if i % 100 == 0:\n",
    "            mse = loss.eval(feed_dict={X: X_batch, y: y_batch})\n",
    "            print(mse)\n",
    "    saver.save(sess, \"./sin-one-input-model\")"
   ]
  },
  {
   "cell_type": "code",
   "execution_count": 17,
   "metadata": {},
   "outputs": [
    {
     "name": "stdout",
     "output_type": "stream",
     "text": [
      "INFO:tensorflow:Restoring parameters from ./sin-one-input-model\n"
     ]
    },
    {
     "data": {
      "image/png": "[encoded data removed]",
      "text/plain": [
       "<Figure size 432x288 with 1 Axes>"
      ]
     },
     "metadata": {
      "needs_background": "light"
     },
     "output_type": "display_data"
    }
   ],
   "source": [
    "with tf.Session() as sess:\n",
    "    saver.restore(sess, \"./sin-one-input-model\")\n",
    "    #predictions = []\n",
    "    values, values_actual = get_test_batch(n_steps)\n",
    "    values_sin = np.sin(values)\n",
    "    values_actual_sin = np.sin(values_actual)\n",
    "    predictions = values_sin.reshape(-1).copy().tolist() #convert to python list to have access to append\n",
    "    for i in range(100):\n",
    "        X_batch = np.array(predictions[-n_steps:]).reshape(1, n_steps, 1)\n",
    "        y_pred = sess.run(outputs, feed_dict={X: X_batch})\n",
    "        predictions.append(y_pred[0, -1, 0]) #add the last element from y_pred to the list\n",
    "    plt.plot(np.arange(len(values_actual_sin)), values_actual_sin)\n",
    "    plt.plot(np.arange(len(predictions)), predictions)"
   ]
  },
  {
   "cell_type": "code",
   "execution_count": null,
   "metadata": {},
   "outputs": [],
   "source": []
  }
 ],
 "metadata": {
  "kernelspec": {
   "display_name": "Python 3",
   "language": "python",
   "name": "python3"
  },
  "language_info": {
   "codemirror_mode": {
    "name": "ipython",
    "version": 3
   },
   "file_extension": ".py",
   "mimetype": "text/x-python",
   "name": "python",
   "nbconvert_exporter": "python",
   "pygments_lexer": "ipython3",
   "version": "3.7.1"
  }
 },
 "nbformat": 4,
 "nbformat_minor": 2
}
